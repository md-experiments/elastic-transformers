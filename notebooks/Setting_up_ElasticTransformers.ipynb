{
 "cells": [
  {
   "cell_type": "markdown",
   "metadata": {},
   "source": [
    "# Introduction\n",
    "\n",
    "This notebook will accomplish the following\n",
    "\n",
    "- Set up an ElasticTransformers class\n",
    "- Instantiate an index and index the Million headlines dataset in it\n",
    "- Preview some search results from comparing lexical vs semantic search\n"
   ]
  },
  {
   "cell_type": "markdown",
   "metadata": {},
   "source": [
    "## Loading requirements"
   ]
  },
  {
   "cell_type": "code",
   "execution_count": 70,
   "metadata": {},
   "outputs": [
    {
     "name": "stdout",
     "output_type": "stream",
     "text": [
      "The autoreload extension is already loaded. To reload it, use:\n",
      "  %reload_ext autoreload\n"
     ]
    }
   ],
   "source": [
    "%load_ext autoreload\n",
    "import os\n",
    "os.chdir(os.path.abspath(os.curdir).replace('notebooks',''))"
   ]
  },
  {
   "cell_type": "code",
   "execution_count": 71,
   "metadata": {},
   "outputs": [],
   "source": [
    "%autoreload 2\n",
    "from src.database import ElasticTransformers\n"
   ]
  },
  {
   "cell_type": "markdown",
   "metadata": {},
   "source": [
    "## Sentence Transformers\n",
    "\n",
    "This creates the sentence transformer object as well as small helper function which simplifies the embedding call and helps lading data into elastic easier"
   ]
  },
  {
   "cell_type": "code",
   "execution_count": 8,
   "metadata": {},
   "outputs": [],
   "source": [
    "from sentence_transformers import SentenceTransformer\n",
    "bert_embedder = SentenceTransformer('bert-base-nli-mean-tokens')\n"
   ]
  },
  {
   "cell_type": "code",
   "execution_count": 24,
   "metadata": {},
   "outputs": [],
   "source": [
    "def embed_wrapper(ls):\n",
    "    results=bert_embedder.encode(ls)\n",
    "    results = [r.to_list() for r in results]\n",
    "    return results"
   ]
  },
  {
   "cell_type": "code",
   "execution_count": null,
   "metadata": {},
   "outputs": [],
   "source": []
  },
  {
   "cell_type": "markdown",
   "metadata": {},
   "source": [
    "## Quick Preview of the raw data\n",
    "\n",
    "The data contains 1.15mn news headlines (all in lower case) and their published date"
   ]
  },
  {
   "cell_type": "code",
   "execution_count": 65,
   "metadata": {},
   "outputs": [],
   "source": [
    "import pandas as pd\n",
    "df=pd.read_csv('data/abcnews-date-text.csv')"
   ]
  },
  {
   "cell_type": "code",
   "execution_count": 27,
   "metadata": {},
   "outputs": [
    {
     "data": {
      "text/html": [
       "<div>\n",
       "<style scoped>\n",
       "    .dataframe tbody tr th:only-of-type {\n",
       "        vertical-align: middle;\n",
       "    }\n",
       "\n",
       "    .dataframe tbody tr th {\n",
       "        vertical-align: top;\n",
       "    }\n",
       "\n",
       "    .dataframe thead th {\n",
       "        text-align: right;\n",
       "    }\n",
       "</style>\n",
       "<table border=\"1\" class=\"dataframe\">\n",
       "  <thead>\n",
       "    <tr style=\"text-align: right;\">\n",
       "      <th></th>\n",
       "      <th>publish_date</th>\n",
       "      <th>headline_text</th>\n",
       "    </tr>\n",
       "  </thead>\n",
       "  <tbody>\n",
       "    <tr>\n",
       "      <th>0</th>\n",
       "      <td>20030219</td>\n",
       "      <td>aba decides against community broadcasting lic...</td>\n",
       "    </tr>\n",
       "    <tr>\n",
       "      <th>1</th>\n",
       "      <td>20030219</td>\n",
       "      <td>act fire witnesses must be aware of defamation</td>\n",
       "    </tr>\n",
       "    <tr>\n",
       "      <th>2</th>\n",
       "      <td>20030219</td>\n",
       "      <td>a g calls for infrastructure protection summit</td>\n",
       "    </tr>\n",
       "    <tr>\n",
       "      <th>3</th>\n",
       "      <td>20030219</td>\n",
       "      <td>air nz staff in aust strike for pay rise</td>\n",
       "    </tr>\n",
       "    <tr>\n",
       "      <th>4</th>\n",
       "      <td>20030219</td>\n",
       "      <td>air nz strike to affect australian travellers</td>\n",
       "    </tr>\n",
       "  </tbody>\n",
       "</table>\n",
       "</div>"
      ],
      "text/plain": [
       "   publish_date                                      headline_text\n",
       "0      20030219  aba decides against community broadcasting lic...\n",
       "1      20030219     act fire witnesses must be aware of defamation\n",
       "2      20030219     a g calls for infrastructure protection summit\n",
       "3      20030219           air nz staff in aust strike for pay rise\n",
       "4      20030219      air nz strike to affect australian travellers"
      ]
     },
     "execution_count": 27,
     "metadata": {},
     "output_type": "execute_result"
    }
   ],
   "source": [
    "df.head()"
   ]
  },
  {
   "cell_type": "markdown",
   "metadata": {},
   "source": [
    "# A tiny example\n",
    "\n",
    "Let's first do this with a tiny example of 1000 headlines (the full dataset is 1.1mn headlines)"
   ]
  },
  {
   "cell_type": "code",
   "execution_count": 68,
   "metadata": {},
   "outputs": [],
   "source": [
    "df.head(1000).to_csv('data/tiny_sample.csv')\n"
   ]
  },
  {
   "cell_type": "markdown",
   "metadata": {},
   "source": [
    "# Setting up ElasticTransformers\n",
    "\n",
    "The below lines initialize the class, meaning setting the url and index name"
   ]
  },
  {
   "cell_type": "code",
   "execution_count": 74,
   "metadata": {},
   "outputs": [
    {
     "name": "stderr",
     "output_type": "stream",
     "text": [
      "2020-08-31 12:05:54,800 - src.logger - DEBUG - ping:32 - Ping successful\n",
      "DEBUG:src.logger:Ping successful\n"
     ]
    }
   ],
   "source": [
    "et=ElasticTransformers(url='http://localhost:9200',index_name='et-tiny')\n",
    "_ = et.ping()\n"
   ]
  },
  {
   "cell_type": "markdown",
   "metadata": {},
   "source": [
    "Next, we define the index specification (Elasticsearch index mapping)"
   ]
  },
  {
   "cell_type": "code",
   "execution_count": 76,
   "metadata": {},
   "outputs": [
    {
     "name": "stderr",
     "output_type": "stream",
     "text": [
      "2020-08-31 12:07:00,626 - src.logger - DEBUG - create_index_spec:93 - Index spec index_spec/spec_et-tiny.json created\n",
      "DEBUG:src.logger:Index spec index_spec/spec_et-tiny.json created\n"
     ]
    },
    {
     "data": {
      "text/plain": [
       "{'settings': {'number_of_shards': 3, 'number_of_replicas': 1},\n",
       " 'mappings': {'dynamic': 'true',\n",
       "  '_source': {'enabled': 'true'},\n",
       "  'properties': {'publish_date': {'type': 'text'},\n",
       "   'headline_text': {'type': 'text'},\n",
       "   'headline_text_embedding': {'type': 'dense_vector', 'dims': 768}}}}"
      ]
     },
     "execution_count": 76,
     "metadata": {},
     "output_type": "execute_result"
    }
   ],
   "source": [
    "et.create_index_spec(\n",
    "    text_fields=['publish_date','headline_text'],\n",
    "    dense_fields=['headline_text_embedding'],\n",
    "    dense_fields_dim=768\n",
    ")"
   ]
  },
  {
   "cell_type": "code",
   "execution_count": 77,
   "metadata": {},
   "outputs": [
    {
     "name": "stdout",
     "output_type": "stream",
     "text": [
      "Creating 'et-tiny' index.\n"
     ]
    }
   ],
   "source": [
    "et.create_index()\n"
   ]
  },
  {
   "cell_type": "code",
   "execution_count": 78,
   "metadata": {},
   "outputs": [
    {
     "name": "stderr",
     "output_type": "stream",
     "text": [
      "0it [00:00, ?it/s]2020-08-31 12:07:47,044 - src.logger - DEBUG - write_large_csv:181 - Successfully wrote 1000 docs to et-tiny\n",
      "DEBUG:src.logger:Successfully wrote 1000 docs to et-tiny\n",
      "1it [00:18, 18.21s/it]\n"
     ]
    }
   ],
   "source": [
    "et.write_large_csv('data/tiny_sample.csv',\n",
    "                  chunksize=1000,\n",
    "                  embedder=embed_wrapper,\n",
    "                  field_to_embed='headline_text')"
   ]
  },
  {
   "cell_type": "markdown",
   "metadata": {},
   "source": [
    "One sample looks like this"
   ]
  },
  {
   "cell_type": "markdown",
   "metadata": {},
   "source": [
    "## Indexing the entire dataset\n",
    "\n",
    "Lets do this now with 1.1mn records "
   ]
  },
  {
   "cell_type": "code",
   "execution_count": null,
   "metadata": {},
   "outputs": [],
   "source": [
    "# Initialize\n",
    "et=ElasticTransformers(url='http://localhost:9200',index_name='et-large')\n",
    "_ = et.ping()\n",
    "# Create index mapping\n",
    "et.create_index_spec(\n",
    "    text_fields=['publish_date','headline_text'],\n",
    "    dense_fields=['headline_text_embedding'],\n",
    "    dense_fields_dim=768\n",
    ")\n",
    "# Create index\n",
    "et.create_index()"
   ]
  },
  {
   "cell_type": "markdown",
   "metadata": {},
   "source": [
    "### Indexing with sentence-transformers... \n",
    "\n",
    "This takes 6hrs on CPU, consumes 4CPUs & 2GB RAM for the embedding process and about 2GB RAM for Elastic"
   ]
  },
  {
   "cell_type": "code",
   "execution_count": 59,
   "metadata": {},
   "outputs": [
    {
     "name": "stderr",
     "output_type": "stream",
     "text": [
      "1187it [6:15:07, 18.96s/it]\n"
     ]
    }
   ],
   "source": [
    "et.write_large_csv('data/abcnews-date-text.csv',\n",
    "                  chunksize=1000,\n",
    "                  embedder=embed_wrapper,\n",
    "                  field_to_embed='headline_text')\n"
   ]
  }
 ],
 "metadata": {
  "kernelspec": {
   "display_name": "Python [conda env:et]",
   "language": "python",
   "name": "conda-env-et-py"
  }
 },
 "nbformat": 4,
 "nbformat_minor": 4
}
