{
 "cells": [
  {
   "cell_type": "markdown",
   "metadata": {},
   "source": [
    "# Introduction\n",
    "\n",
    "This notebook will accomplish the following\n",
    "\n",
    "- Set up an ElasticTransformers class\n",
    "- Instantiate an index and index the Million headlines dataset in it\n",
    "- Preview some search results from comparing lexical vs semantic search\n"
   ]
  },
  {
   "cell_type": "markdown",
   "metadata": {},
   "source": [
    "## Loading requirements"
   ]
  },
  {
   "cell_type": "code",
   "execution_count": 1,
   "metadata": {},
   "outputs": [],
   "source": [
    "%load_ext autoreload\n",
    "import os\n",
    "os.chdir(os.path.abspath(os.curdir).replace('notebooks',''))"
   ]
  },
  {
   "cell_type": "code",
   "execution_count": 2,
   "metadata": {},
   "outputs": [],
   "source": [
    "%autoreload 2\n",
    "from src.database import ElasticTransformers\n"
   ]
  },
  {
   "cell_type": "markdown",
   "metadata": {},
   "source": [
    "## Sentence Transformers\n",
    "\n",
    "This creates the sentence transformer object as well as small helper function which simplifies the embedding call and helps lading data into elastic easier"
   ]
  },
  {
   "cell_type": "code",
   "execution_count": 3,
   "metadata": {},
   "outputs": [
    {
     "name": "stderr",
     "output_type": "stream",
     "text": [
      "100%|██████████| 405M/405M [02:04<00:00, 3.26MB/s] \n"
     ]
    }
   ],
   "source": [
    "from sentence_transformers import SentenceTransformer\n",
    "bert_embedder = SentenceTransformer('bert-base-nli-mean-tokens')\n"
   ]
  },
  {
   "cell_type": "code",
   "execution_count": 24,
   "metadata": {},
   "outputs": [],
   "source": [
    "def embed_wrapper(ls):\n",
    "    results=bert_embedder.encode(ls)\n",
    "    print(type(results))\n",
    "    results = [r.tolist() for r in results]\n",
    "    return results"
   ]
  },
  {
   "cell_type": "code",
   "execution_count": null,
   "metadata": {},
   "outputs": [],
   "source": []
  },
  {
   "cell_type": "markdown",
   "metadata": {},
   "source": [
    "## Quick Preview of the raw data\n",
    "\n",
    "The data contains 1.15mn news headlines (all in lower case) and their published date"
   ]
  },
  {
   "cell_type": "code",
   "execution_count": 25,
   "metadata": {},
   "outputs": [],
   "source": [
    "import pandas as pd\n",
    "df=pd.read_csv('data/abcnews-date-text.csv')"
   ]
  },
  {
   "cell_type": "code",
   "execution_count": 26,
   "metadata": {},
   "outputs": [
    {
     "data": {
      "text/html": [
       "<div>\n",
       "<style scoped>\n",
       "    .dataframe tbody tr th:only-of-type {\n",
       "        vertical-align: middle;\n",
       "    }\n",
       "\n",
       "    .dataframe tbody tr th {\n",
       "        vertical-align: top;\n",
       "    }\n",
       "\n",
       "    .dataframe thead th {\n",
       "        text-align: right;\n",
       "    }\n",
       "</style>\n",
       "<table border=\"1\" class=\"dataframe\">\n",
       "  <thead>\n",
       "    <tr style=\"text-align: right;\">\n",
       "      <th></th>\n",
       "      <th>publish_date</th>\n",
       "      <th>headline_text</th>\n",
       "    </tr>\n",
       "  </thead>\n",
       "  <tbody>\n",
       "    <tr>\n",
       "      <th>0</th>\n",
       "      <td>20030219</td>\n",
       "      <td>aba decides against community broadcasting lic...</td>\n",
       "    </tr>\n",
       "    <tr>\n",
       "      <th>1</th>\n",
       "      <td>20030219</td>\n",
       "      <td>act fire witnesses must be aware of defamation</td>\n",
       "    </tr>\n",
       "    <tr>\n",
       "      <th>2</th>\n",
       "      <td>20030219</td>\n",
       "      <td>a g calls for infrastructure protection summit</td>\n",
       "    </tr>\n",
       "    <tr>\n",
       "      <th>3</th>\n",
       "      <td>20030219</td>\n",
       "      <td>air nz staff in aust strike for pay rise</td>\n",
       "    </tr>\n",
       "    <tr>\n",
       "      <th>4</th>\n",
       "      <td>20030219</td>\n",
       "      <td>air nz strike to affect australian travellers</td>\n",
       "    </tr>\n",
       "  </tbody>\n",
       "</table>\n",
       "</div>"
      ],
      "text/plain": [
       "   publish_date                                      headline_text\n",
       "0      20030219  aba decides against community broadcasting lic...\n",
       "1      20030219     act fire witnesses must be aware of defamation\n",
       "2      20030219     a g calls for infrastructure protection summit\n",
       "3      20030219           air nz staff in aust strike for pay rise\n",
       "4      20030219      air nz strike to affect australian travellers"
      ]
     },
     "execution_count": 26,
     "metadata": {},
     "output_type": "execute_result"
    }
   ],
   "source": [
    "df.head()"
   ]
  },
  {
   "cell_type": "markdown",
   "metadata": {},
   "source": [
    "# A tiny example\n",
    "\n",
    "Let's first do this with a tiny example of 1000 headlines (the full dataset is 1.1mn headlines)"
   ]
  },
  {
   "cell_type": "code",
   "execution_count": 27,
   "metadata": {},
   "outputs": [],
   "source": [
    "df.head(1000).to_csv('data/tiny_sample.csv')\n"
   ]
  },
  {
   "cell_type": "markdown",
   "metadata": {},
   "source": [
    "# Setting up ElasticTransformers\n",
    "\n",
    "The below lines initialize the class, meaning setting the url and index name"
   ]
  },
  {
   "cell_type": "code",
   "execution_count": 28,
   "metadata": {},
   "outputs": [
    {
     "name": "stderr",
     "output_type": "stream",
     "text": [
      "2020-08-31 17:00:35,684 - src.logger - DEBUG - ping:32 - Ping successful\n",
      "DEBUG:src.logger:Ping successful\n"
     ]
    }
   ],
   "source": [
    "et=ElasticTransformers(url='http://localhost:9200',index_name='et-tiny')\n",
    "_ = et.ping()\n"
   ]
  },
  {
   "cell_type": "markdown",
   "metadata": {},
   "source": [
    "Next, we define the index specification (Elasticsearch index mapping)"
   ]
  },
  {
   "cell_type": "code",
   "execution_count": 29,
   "metadata": {},
   "outputs": [
    {
     "name": "stderr",
     "output_type": "stream",
     "text": [
      "2020-08-31 17:00:37,125 - src.logger - DEBUG - create_index_spec:93 - Index spec index_spec/spec_et-tiny.json created\n",
      "DEBUG:src.logger:Index spec index_spec/spec_et-tiny.json created\n"
     ]
    },
    {
     "data": {
      "text/plain": [
       "{'settings': {'number_of_shards': 3, 'number_of_replicas': 1},\n",
       " 'mappings': {'dynamic': 'true',\n",
       "  '_source': {'enabled': 'true'},\n",
       "  'properties': {'publish_date': {'type': 'text'},\n",
       "   'headline_text': {'type': 'text'},\n",
       "   'headline_text_embedding': {'type': 'dense_vector', 'dims': 768}}}}"
      ]
     },
     "execution_count": 29,
     "metadata": {},
     "output_type": "execute_result"
    }
   ],
   "source": [
    "et.create_index_spec(\n",
    "    text_fields=['publish_date','headline_text'],\n",
    "    dense_fields=['headline_text_embedding'],\n",
    "    dense_fields_dim=768\n",
    ")"
   ]
  },
  {
   "cell_type": "code",
   "execution_count": 30,
   "metadata": {},
   "outputs": [
    {
     "name": "stdout",
     "output_type": "stream",
     "text": [
      "Creating 'et-tiny' index.\n"
     ]
    }
   ],
   "source": [
    "et.create_index()\n"
   ]
  },
  {
   "cell_type": "code",
   "execution_count": 32,
   "metadata": {},
   "outputs": [
    {
     "name": "stderr",
     "output_type": "stream",
     "text": [
      "\n",
      "\n",
      "\n",
      "0it [00:00, ?it/s]\u001b[A\u001b[A\u001b[A"
     ]
    },
    {
     "name": "stdout",
     "output_type": "stream",
     "text": [
      "<class 'numpy.ndarray'>\n"
     ]
    },
    {
     "name": "stderr",
     "output_type": "stream",
     "text": [
      "2020-08-31 17:01:48,149 - src.logger - DEBUG - write_large_csv:181 - Successfully wrote 1000 docs to et-tiny\n",
      "DEBUG:src.logger:Successfully wrote 1000 docs to et-tiny\n",
      "\n",
      "\n",
      "\n",
      "1it [00:13, 13.15s/it]\u001b[A\u001b[A\u001b[A\n",
      "\n",
      "\n",
      "\u001b[A\u001b[A\u001b[A"
     ]
    }
   ],
   "source": [
    "et.write_large_csv('data/tiny_sample.csv',\n",
    "                  chunksize=1000,\n",
    "                  embedder=embed_wrapper,\n",
    "                  field_to_embed='headline_text')"
   ]
  },
  {
   "cell_type": "markdown",
   "metadata": {},
   "source": [
    "One sample looks like this"
   ]
  },
  {
   "cell_type": "markdown",
   "metadata": {},
   "source": [
    "## Indexing the entire dataset\n",
    "\n",
    "Lets do this now with 1.1mn records "
   ]
  },
  {
   "cell_type": "code",
   "execution_count": 33,
   "metadata": {},
   "outputs": [
    {
     "name": "stderr",
     "output_type": "stream",
     "text": [
      "2020-08-31 17:01:48,217 - src.logger - DEBUG - ping:32 - Ping successful\n",
      "DEBUG:src.logger:Ping successful\n",
      "2020-08-31 17:01:48,226 - src.logger - DEBUG - create_index_spec:93 - Index spec index_spec/spec_et-large.json created\n",
      "DEBUG:src.logger:Index spec index_spec/spec_et-large.json created\n"
     ]
    },
    {
     "name": "stdout",
     "output_type": "stream",
     "text": [
      "Creating 'et-large' index.\n"
     ]
    }
   ],
   "source": [
    "# Initialize\n",
    "et=ElasticTransformers(url='http://localhost:9200',index_name='et-large')\n",
    "_ = et.ping()\n",
    "# Create index mapping\n",
    "et.create_index_spec(\n",
    "    text_fields=['publish_date','headline_text'],\n",
    "    dense_fields=['headline_text_embedding'],\n",
    "    dense_fields_dim=768\n",
    ")\n",
    "# Create index\n",
    "et.create_index()"
   ]
  },
  {
   "cell_type": "markdown",
   "metadata": {},
   "source": [
    "### Indexing with sentence-transformers... \n",
    "\n",
    "This takes 6hrs on CPU, consumes 4CPUs & 2GB RAM for the embedding process and about 2GB RAM for Elastic"
   ]
  },
  {
   "cell_type": "code",
   "execution_count": null,
   "metadata": {},
   "outputs": [
    {
     "name": "stderr",
     "output_type": "stream",
     "text": [
      "\n",
      "\n",
      "\n",
      "0it [00:00, ?it/s]\u001b[A\u001b[A\u001b[A"
     ]
    },
    {
     "name": "stdout",
     "output_type": "stream",
     "text": [
      "<class 'numpy.ndarray'>\n"
     ]
    },
    {
     "name": "stderr",
     "output_type": "stream",
     "text": [
      "2020-08-31 17:02:15,086 - src.logger - DEBUG - write_large_csv:181 - Successfully wrote 1000 docs to et-large\n",
      "DEBUG:src.logger:Successfully wrote 1000 docs to et-large\n",
      "\n",
      "\n",
      "\n",
      "1it [00:14, 14.63s/it]\u001b[A\u001b[A\u001b[A"
     ]
    },
    {
     "name": "stdout",
     "output_type": "stream",
     "text": [
      "<class 'numpy.ndarray'>\n"
     ]
    },
    {
     "name": "stderr",
     "output_type": "stream",
     "text": [
      "2020-08-31 17:02:35,218 - src.logger - DEBUG - write_large_csv:181 - Successfully wrote 1000 docs to et-large\n",
      "DEBUG:src.logger:Successfully wrote 1000 docs to et-large\n",
      "\n",
      "\n",
      "\n",
      "2it [00:34, 16.28s/it]\u001b[A\u001b[A\u001b[A"
     ]
    },
    {
     "name": "stdout",
     "output_type": "stream",
     "text": [
      "<class 'numpy.ndarray'>\n"
     ]
    },
    {
     "name": "stderr",
     "output_type": "stream",
     "text": [
      "2020-08-31 17:02:49,734 - src.logger - DEBUG - write_large_csv:181 - Successfully wrote 1000 docs to et-large\n",
      "DEBUG:src.logger:Successfully wrote 1000 docs to et-large\n",
      "\n",
      "\n",
      "\n",
      "3it [00:49, 15.75s/it]\u001b[A\u001b[A\u001b[A"
     ]
    },
    {
     "name": "stdout",
     "output_type": "stream",
     "text": [
      "<class 'numpy.ndarray'>\n"
     ]
    },
    {
     "name": "stderr",
     "output_type": "stream",
     "text": [
      "2020-08-31 17:03:05,452 - src.logger - DEBUG - write_large_csv:181 - Successfully wrote 1000 docs to et-large\n",
      "DEBUG:src.logger:Successfully wrote 1000 docs to et-large\n",
      "\n",
      "\n",
      "\n",
      "4it [01:04, 15.74s/it]\u001b[A\u001b[A\u001b[A"
     ]
    },
    {
     "name": "stdout",
     "output_type": "stream",
     "text": [
      "<class 'numpy.ndarray'>\n"
     ]
    },
    {
     "name": "stderr",
     "output_type": "stream",
     "text": [
      "2020-08-31 17:03:22,616 - src.logger - DEBUG - write_large_csv:181 - Successfully wrote 1000 docs to et-large\n",
      "DEBUG:src.logger:Successfully wrote 1000 docs to et-large\n",
      "\n",
      "\n",
      "\n",
      "5it [01:22, 16.17s/it]\u001b[A\u001b[A\u001b[A"
     ]
    },
    {
     "name": "stdout",
     "output_type": "stream",
     "text": [
      "<class 'numpy.ndarray'>\n"
     ]
    },
    {
     "name": "stderr",
     "output_type": "stream",
     "text": [
      "2020-08-31 17:03:36,878 - src.logger - DEBUG - write_large_csv:181 - Successfully wrote 1000 docs to et-large\n",
      "DEBUG:src.logger:Successfully wrote 1000 docs to et-large\n",
      "\n",
      "\n",
      "\n",
      "6it [01:36, 15.60s/it]\u001b[A\u001b[A\u001b[A"
     ]
    },
    {
     "name": "stdout",
     "output_type": "stream",
     "text": [
      "<class 'numpy.ndarray'>\n"
     ]
    },
    {
     "name": "stderr",
     "output_type": "stream",
     "text": [
      "2020-08-31 17:03:51,890 - src.logger - DEBUG - write_large_csv:181 - Successfully wrote 1000 docs to et-large\n",
      "DEBUG:src.logger:Successfully wrote 1000 docs to et-large\n",
      "\n",
      "\n",
      "\n",
      "7it [01:51, 15.42s/it]\u001b[A\u001b[A\u001b[A"
     ]
    },
    {
     "name": "stdout",
     "output_type": "stream",
     "text": [
      "<class 'numpy.ndarray'>\n"
     ]
    },
    {
     "name": "stderr",
     "output_type": "stream",
     "text": [
      "2020-08-31 17:04:07,947 - src.logger - DEBUG - write_large_csv:181 - Successfully wrote 1000 docs to et-large\n",
      "DEBUG:src.logger:Successfully wrote 1000 docs to et-large\n",
      "\n",
      "\n",
      "\n",
      "8it [02:07, 15.61s/it]\u001b[A\u001b[A\u001b[A"
     ]
    },
    {
     "name": "stdout",
     "output_type": "stream",
     "text": [
      "<class 'numpy.ndarray'>\n"
     ]
    },
    {
     "name": "stderr",
     "output_type": "stream",
     "text": [
      "2020-08-31 17:04:23,395 - src.logger - DEBUG - write_large_csv:181 - Successfully wrote 1000 docs to et-large\n",
      "DEBUG:src.logger:Successfully wrote 1000 docs to et-large\n",
      "\n",
      "\n",
      "\n",
      "9it [02:22, 15.56s/it]\u001b[A\u001b[A\u001b[A"
     ]
    },
    {
     "name": "stdout",
     "output_type": "stream",
     "text": [
      "<class 'numpy.ndarray'>\n"
     ]
    },
    {
     "name": "stderr",
     "output_type": "stream",
     "text": [
      "2020-08-31 17:04:38,449 - src.logger - DEBUG - write_large_csv:181 - Successfully wrote 1000 docs to et-large\n",
      "DEBUG:src.logger:Successfully wrote 1000 docs to et-large\n",
      "\n",
      "\n",
      "\n",
      "10it [02:37, 15.41s/it]\u001b[A\u001b[A\u001b[A"
     ]
    },
    {
     "name": "stdout",
     "output_type": "stream",
     "text": [
      "<class 'numpy.ndarray'>\n"
     ]
    },
    {
     "name": "stderr",
     "output_type": "stream",
     "text": [
      "2020-08-31 17:04:52,891 - src.logger - DEBUG - write_large_csv:181 - Successfully wrote 1000 docs to et-large\n",
      "DEBUG:src.logger:Successfully wrote 1000 docs to et-large\n",
      "\n",
      "\n",
      "\n",
      "11it [02:52, 15.12s/it]\u001b[A\u001b[A\u001b[A"
     ]
    },
    {
     "name": "stdout",
     "output_type": "stream",
     "text": [
      "<class 'numpy.ndarray'>\n"
     ]
    },
    {
     "name": "stderr",
     "output_type": "stream",
     "text": [
      "2020-08-31 17:05:07,959 - src.logger - DEBUG - write_large_csv:181 - Successfully wrote 1000 docs to et-large\n",
      "DEBUG:src.logger:Successfully wrote 1000 docs to et-large\n",
      "\n",
      "\n",
      "\n",
      "12it [03:07, 15.10s/it]\u001b[A\u001b[A\u001b[A"
     ]
    },
    {
     "name": "stdout",
     "output_type": "stream",
     "text": [
      "<class 'numpy.ndarray'>\n"
     ]
    },
    {
     "name": "stderr",
     "output_type": "stream",
     "text": [
      "2020-08-31 17:05:22,624 - src.logger - DEBUG - write_large_csv:181 - Successfully wrote 1000 docs to et-large\n",
      "DEBUG:src.logger:Successfully wrote 1000 docs to et-large\n",
      "\n",
      "\n",
      "\n",
      "13it [03:22, 14.97s/it]\u001b[A\u001b[A\u001b[A"
     ]
    },
    {
     "name": "stdout",
     "output_type": "stream",
     "text": [
      "<class 'numpy.ndarray'>\n"
     ]
    },
    {
     "name": "stderr",
     "output_type": "stream",
     "text": [
      "2020-08-31 17:05:37,441 - src.logger - DEBUG - write_large_csv:181 - Successfully wrote 1000 docs to et-large\n",
      "DEBUG:src.logger:Successfully wrote 1000 docs to et-large\n",
      "\n",
      "\n",
      "\n",
      "14it [03:36, 14.93s/it]\u001b[A\u001b[A\u001b[A"
     ]
    },
    {
     "name": "stdout",
     "output_type": "stream",
     "text": [
      "<class 'numpy.ndarray'>\n"
     ]
    },
    {
     "name": "stderr",
     "output_type": "stream",
     "text": [
      "2020-08-31 17:05:52,954 - src.logger - DEBUG - write_large_csv:181 - Successfully wrote 1000 docs to et-large\n",
      "DEBUG:src.logger:Successfully wrote 1000 docs to et-large\n",
      "\n",
      "\n",
      "\n",
      "15it [03:52, 15.10s/it]\u001b[A\u001b[A\u001b[A"
     ]
    }
   ],
   "source": [
    "et.write_large_csv('data/abcnews-date-text.csv',\n",
    "                  chunksize=1000,\n",
    "                  embedder=embed_wrapper,\n",
    "                  field_to_embed='headline_text')\n"
   ]
  },
  {
   "cell_type": "code",
   "execution_count": null,
   "metadata": {},
   "outputs": [],
   "source": []
  }
 ],
 "metadata": {
  "kernelspec": {
   "display_name": "Python 3",
   "language": "python",
   "name": "python3"
  },
  "language_info": {
   "codemirror_mode": {
    "name": "ipython",
    "version": 3
   },
   "file_extension": ".py",
   "mimetype": "text/x-python",
   "name": "python",
   "nbconvert_exporter": "python",
   "pygments_lexer": "ipython3",
   "version": "3.7.1"
  }
 },
 "nbformat": 4,
 "nbformat_minor": 4
}
