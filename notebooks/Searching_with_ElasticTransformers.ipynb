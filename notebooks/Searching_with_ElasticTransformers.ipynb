{
 "cells": [
  {
   "cell_type": "code",
   "execution_count": 1,
   "metadata": {},
   "outputs": [],
   "source": [
    "%load_ext autoreload\n",
    "import os\n",
    "os.chdir(os.path.abspath(os.curdir).replace('notebooks',''))"
   ]
  },
  {
   "cell_type": "code",
   "execution_count": 28,
   "metadata": {},
   "outputs": [],
   "source": [
    "%autoreload 2\n",
    "from src.database import ElasticTransformers"
   ]
  },
  {
   "cell_type": "code",
   "execution_count": 3,
   "metadata": {},
   "outputs": [],
   "source": [
    "from sentence_transformers import SentenceTransformer\n",
    "\n",
    "bert_embedder = SentenceTransformer('bert-base-nli-mean-tokens')"
   ]
  },
  {
   "cell_type": "code",
   "execution_count": 16,
   "metadata": {},
   "outputs": [],
   "source": [
    "def embed_wrapper(ls):\n",
    "    \"\"\"\n",
    "    Helper function which simplifies the embedding call and helps lading data into elastic easier\n",
    "    \"\"\"\n",
    "    results=bert_embedder.encode(ls)\n",
    "    results = [r.to_list() for r in results]\n",
    "    return results\n"
   ]
  },
  {
   "cell_type": "code",
   "execution_count": 33,
   "metadata": {},
   "outputs": [
    {
     "data": {
      "text/plain": [
       "True"
      ]
     },
     "execution_count": 33,
     "metadata": {},
     "output_type": "execute_result"
    }
   ],
   "source": [
    "et=ElasticTransformers(index_name='et-test')\n",
    "et.ping()"
   ]
  },
  {
   "cell_type": "markdown",
   "metadata": {},
   "source": [
    "# Size matters\n",
    "Below we search for `security thead` in the tiny (1k records) vs the large (1.1mn records, 1100x) index. \n",
    " - keyword matching takes 12ms on tiny and 45ms (4x) in the large index \n",
    " - dense (embedding) search takse 80ms on tiny and 8400ms (105x) on the large index"
   ]
  },
  {
   "cell_type": "code",
   "execution_count": 55,
   "metadata": {},
   "outputs": [
    {
     "name": "stderr",
     "output_type": "stream",
     "text": [
      "2020-08-31 12:58:28,580 - src.logger - DEBUG - search:251 - Search DENSE security thread in et-tiny.headline_text returned 100 results of 100 requested\n",
      "DEBUG:src.logger:Search DENSE security thread in et-tiny.headline_text returned 100 results of 100 requested\n"
     ]
    },
    {
     "name": "stdout",
     "output_type": "stream",
     "text": [
      "CPU times: user 182 ms, sys: 11.7 ms, total: 193 ms\n",
      "Wall time: 74.7 ms\n"
     ]
    }
   ],
   "source": [
    "%%time\n",
    "_ = et.search('security thread','headline_text',index_name='et-tiny',type='dense',embedder=embed_wrapper, size=100)"
   ]
  },
  {
   "cell_type": "code",
   "execution_count": 56,
   "metadata": {},
   "outputs": [
    {
     "name": "stderr",
     "output_type": "stream",
     "text": [
      "2020-08-31 12:58:32,467 - src.logger - DEBUG - search:251 - Search MATCH security thread in et-tiny.headline_text returned 5 results of 100 requested\n",
      "DEBUG:src.logger:Search MATCH security thread in et-tiny.headline_text returned 5 results of 100 requested\n"
     ]
    },
    {
     "name": "stdout",
     "output_type": "stream",
     "text": [
      "CPU times: user 3.18 ms, sys: 1.05 ms, total: 4.23 ms\n",
      "Wall time: 12.2 ms\n"
     ]
    }
   ],
   "source": [
    "%%time\n",
    "_ = et.search('security thread','headline_text',index_name='et-tiny',type='match',embedder=embed_wrapper, size=100)"
   ]
  },
  {
   "cell_type": "code",
   "execution_count": 58,
   "metadata": {},
   "outputs": [
    {
     "name": "stderr",
     "output_type": "stream",
     "text": [
      "2020-08-31 12:58:42,637 - src.logger - DEBUG - search:251 - Search MATCH security thread in None.headline_text returned 100 results of 100 requested\n",
      "DEBUG:src.logger:Search MATCH security thread in None.headline_text returned 100 results of 100 requested\n"
     ]
    },
    {
     "name": "stdout",
     "output_type": "stream",
     "text": [
      "CPU times: user 12.8 ms, sys: 2.71 ms, total: 15.5 ms\n",
      "Wall time: 47.8 ms\n"
     ]
    }
   ],
   "source": [
    "%%time\n",
    "_ = et.search('security thread','headline_text',type='match',embedder=embed_wrapper, size=100)\n"
   ]
  },
  {
   "cell_type": "code",
   "execution_count": 52,
   "metadata": {},
   "outputs": [
    {
     "name": "stderr",
     "output_type": "stream",
     "text": [
      "2020-08-31 12:58:12,248 - src.logger - DEBUG - search:251 - Search DENSE security thread in None.headline_text returned 100 results of 100 requested\n",
      "DEBUG:src.logger:Search DENSE security thread in None.headline_text returned 100 results of 100 requested\n"
     ]
    },
    {
     "name": "stdout",
     "output_type": "stream",
     "text": [
      "CPU times: user 180 ms, sys: 12.3 ms, total: 193 ms\n",
      "Wall time: 8.41 s\n"
     ]
    }
   ],
   "source": [
    "%%time\n",
    "_ = et.search('security thread','headline_text',type='dense',embedder=embed_wrapper, size=100)\n"
   ]
  },
  {
   "cell_type": "code",
   "execution_count": 44,
   "metadata": {},
   "outputs": [
    {
     "name": "stderr",
     "output_type": "stream",
     "text": [
      "2020-08-31 11:39:54,702 - src.logger - DEBUG - search:251 - Search DENSE news in None.headline_text returned 5 results of 5 requested\n",
      "DEBUG:src.logger:Search DENSE news in None.headline_text returned 5 results of 5 requested\n"
     ]
    },
    {
     "name": "stdout",
     "output_type": "stream",
     "text": [
      "CPU times: user 186 ms, sys: 14.2 ms, total: 200 ms\n",
      "Wall time: 8.34 s\n"
     ]
    }
   ],
   "source": [
    "%%time\n",
    "_ = et.search('news','headline_text',type='dense',embedder=embed_wrapper, size=5)\n"
   ]
  },
  {
   "cell_type": "code",
   "execution_count": 41,
   "metadata": {},
   "outputs": [
    {
     "name": "stderr",
     "output_type": "stream",
     "text": [
      "2020-08-31 11:38:56,249 - src.logger - DEBUG - search:251 - Search MATCH virus thread in None.headline_text returned 100 results of 100 requested\n",
      "DEBUG:src.logger:Search MATCH virus thread in None.headline_text returned 100 results of 100 requested\n"
     ]
    },
    {
     "name": "stdout",
     "output_type": "stream",
     "text": [
      "CPU times: user 12.9 ms, sys: 2.25 ms, total: 15.2 ms\n",
      "Wall time: 44.9 ms\n"
     ]
    },
    {
     "data": {
      "text/html": [
       "<div>\n",
       "<style scoped>\n",
       "    .dataframe tbody tr th:only-of-type {\n",
       "        vertical-align: middle;\n",
       "    }\n",
       "\n",
       "    .dataframe tbody tr th {\n",
       "        vertical-align: top;\n",
       "    }\n",
       "\n",
       "    .dataframe thead th {\n",
       "        text-align: right;\n",
       "    }\n",
       "</style>\n",
       "<table border=\"1\" class=\"dataframe\">\n",
       "  <thead>\n",
       "    <tr style=\"text-align: right;\">\n",
       "      <th></th>\n",
       "      <th>_score</th>\n",
       "      <th>headline_text</th>\n",
       "      <th>headline_text_embedding</th>\n",
       "    </tr>\n",
       "  </thead>\n",
       "  <tbody>\n",
       "    <tr>\n",
       "      <th>0</th>\n",
       "      <td>12.561751</td>\n",
       "      <td>open thread june 13 2014</td>\n",
       "      <td>[-0.0028050158, 0.1959735453, 0.8845489621, 0....</td>\n",
       "    </tr>\n",
       "    <tr>\n",
       "      <th>1</th>\n",
       "      <td>12.159321</td>\n",
       "      <td>open thread friday june 20</td>\n",
       "      <td>[-0.1166632324, -0.4709567428, 1.6022088528, 0...</td>\n",
       "    </tr>\n",
       "    <tr>\n",
       "      <th>2</th>\n",
       "      <td>11.530302</td>\n",
       "      <td>open thread: may 23 2014</td>\n",
       "      <td>[-0.297937274, 0.0036600307, 1.2500419617, 0.3...</td>\n",
       "    </tr>\n",
       "    <tr>\n",
       "      <th>3</th>\n",
       "      <td>11.530302</td>\n",
       "      <td>open thread: may 30 2014</td>\n",
       "      <td>[-0.3281069994, -0.055470407, 1.5308458805, 0....</td>\n",
       "    </tr>\n",
       "    <tr>\n",
       "      <th>4</th>\n",
       "      <td>11.368732</td>\n",
       "      <td>temers presidency hanging by a thread</td>\n",
       "      <td>[0.6944692135, 0.0708749965, 1.3958420753, 0.8...</td>\n",
       "    </tr>\n",
       "    <tr>\n",
       "      <th>...</th>\n",
       "      <td>...</td>\n",
       "      <td>...</td>\n",
       "      <td>...</td>\n",
       "    </tr>\n",
       "    <tr>\n",
       "      <th>95</th>\n",
       "      <td>8.425070</td>\n",
       "      <td>hendra virus vaccine update</td>\n",
       "      <td>[0.3527559638, -0.3274123073, 0.9984663725, -0...</td>\n",
       "    </tr>\n",
       "    <tr>\n",
       "      <th>96</th>\n",
       "      <td>8.352560</td>\n",
       "      <td>hendra virus flying foxes</td>\n",
       "      <td>[0.1032108814, 0.8079137802, -0.3388480842, -0...</td>\n",
       "    </tr>\n",
       "    <tr>\n",
       "      <th>97</th>\n",
       "      <td>8.352560</td>\n",
       "      <td>hendra virus fact box</td>\n",
       "      <td>[0.4632798135, 0.081611529, 0.5122417808, 0.28...</td>\n",
       "    </tr>\n",
       "    <tr>\n",
       "      <th>98</th>\n",
       "      <td>8.352560</td>\n",
       "      <td>virus transport plan scrapped</td>\n",
       "      <td>[0.176388219, 0.4736163318, 0.8430795074, 0.34...</td>\n",
       "    </tr>\n",
       "    <tr>\n",
       "      <th>99</th>\n",
       "      <td>8.352560</td>\n",
       "      <td>marburg virus threat spreads</td>\n",
       "      <td>[0.6235207319, 0.0963262171, 1.4489305019, -0....</td>\n",
       "    </tr>\n",
       "  </tbody>\n",
       "</table>\n",
       "<p>100 rows × 3 columns</p>\n",
       "</div>"
      ],
      "text/plain": [
       "       _score                          headline_text  \\\n",
       "0   12.561751               open thread june 13 2014   \n",
       "1   12.159321             open thread friday june 20   \n",
       "2   11.530302               open thread: may 23 2014   \n",
       "3   11.530302               open thread: may 30 2014   \n",
       "4   11.368732  temers presidency hanging by a thread   \n",
       "..        ...                                    ...   \n",
       "95   8.425070            hendra virus vaccine update   \n",
       "96   8.352560              hendra virus flying foxes   \n",
       "97   8.352560                  hendra virus fact box   \n",
       "98   8.352560          virus transport plan scrapped   \n",
       "99   8.352560           marburg virus threat spreads   \n",
       "\n",
       "                              headline_text_embedding  \n",
       "0   [-0.0028050158, 0.1959735453, 0.8845489621, 0....  \n",
       "1   [-0.1166632324, -0.4709567428, 1.6022088528, 0...  \n",
       "2   [-0.297937274, 0.0036600307, 1.2500419617, 0.3...  \n",
       "3   [-0.3281069994, -0.055470407, 1.5308458805, 0....  \n",
       "4   [0.6944692135, 0.0708749965, 1.3958420753, 0.8...  \n",
       "..                                                ...  \n",
       "95  [0.3527559638, -0.3274123073, 0.9984663725, -0...  \n",
       "96  [0.1032108814, 0.8079137802, -0.3388480842, -0...  \n",
       "97  [0.4632798135, 0.081611529, 0.5122417808, 0.28...  \n",
       "98  [0.176388219, 0.4736163318, 0.8430795074, 0.34...  \n",
       "99  [0.6235207319, 0.0963262171, 1.4489305019, -0....  \n",
       "\n",
       "[100 rows x 3 columns]"
      ]
     },
     "execution_count": 41,
     "metadata": {},
     "output_type": "execute_result"
    }
   ],
   "source": [
    "%%time\n",
    "_ = et.search('virus thread','headline_text',type='match',embedder=embed_wrapper, size = 100)"
   ]
  },
  {
   "cell_type": "code",
   "execution_count": 19,
   "metadata": {},
   "outputs": [],
   "source": [
    "import pandas as pd\n",
    "df=pd.read_csv('data/abcnews-date-text.csv')"
   ]
  },
  {
   "cell_type": "code",
   "execution_count": null,
   "metadata": {},
   "outputs": [],
   "source": []
  },
  {
   "cell_type": "code",
   "execution_count": 20,
   "metadata": {},
   "outputs": [
    {
     "data": {
      "text/plain": [
       "(1186018, 2)"
      ]
     },
     "execution_count": 20,
     "metadata": {},
     "output_type": "execute_result"
    }
   ],
   "source": [
    "df.shape"
   ]
  }
 ],
 "metadata": {
  "kernelspec": {
   "display_name": "Python [conda env:et]",
   "language": "python",
   "name": "conda-env-et-py"
  },
  "language_info": {
   "codemirror_mode": {
    "name": "ipython",
    "version": 3
   },
   "file_extension": ".py",
   "mimetype": "text/x-python",
   "name": "python",
   "nbconvert_exporter": "python",
   "pygments_lexer": "ipython3",
   "version": "3.7.7"
  }
 },
 "nbformat": 4,
 "nbformat_minor": 4
}
